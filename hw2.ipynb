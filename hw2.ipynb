{
 "cells": [
  {
   "cell_type": "markdown",
   "metadata": {},
   "source": [
    "# Problem 6.1 and Problem 6.2"
   ]
  },
  {
   "cell_type": "code",
   "execution_count": 13,
   "metadata": {
    "collapsed": true
   },
   "outputs": [],
   "source": [
    "import numpy as np\n",
    "from numpy.linalg import inv\n",
    "import scipy.io\n",
    "import pandas as pd\n",
    "\n",
    "# For reproducibility\n",
    "np.random.seed(1000)"
   ]
  },
  {
   "cell_type": "code",
   "execution_count": 33,
   "metadata": {},
   "outputs": [],
   "source": [
    "# This function generates data based on the formula we input \n",
    "# For this time we will generate a square function added with a noise\n",
    "f = lambda  x: x**2"
   ]
  },
  {
   "cell_type": "code",
   "execution_count": 385,
   "metadata": {},
   "outputs": [],
   "source": [
    "# Closed function regression\n",
    "def closed_function_regression(train_X, train_Y):\n",
    "  X = np.array(train_X)\n",
    "  y = np.array(train_Y)\n",
    "  \n",
    "  \n",
    "  # TODO: Check again here  \n",
    "  # ones = np.ones(len(X))\n",
    "  # X = np.column_stack((ones, X))\n",
    "  y = np.array(y)\n",
    "        \n",
    "  Xt = transpose(X)\n",
    "  product = dot(Xt, X)\n",
    "  theInverse = inv(product)\n",
    "  w = dot(dot(theInverse, Xt), y)\n",
    "        \n",
    "  return w\n",
    "        \n",
    "        "
   ]
  },
  {
   "cell_type": "code",
   "execution_count": 384,
   "metadata": {},
   "outputs": [
    {
     "data": {
      "text/plain": [
       "array([[ 5.40148277]])"
      ]
     },
     "execution_count": 384,
     "metadata": {},
     "output_type": "execute_result"
    }
   ],
   "source": [
    "df = scipy.io.loadmat(\"/Users/bagustrihatmaja/Downloads/HW1_Data/dataset1.mat\")\n",
    "\n",
    "X_trn = df['X_trn']\n",
    "Y_trn = df['Y_trn']\n",
    "\n",
    "\n",
    "closed_function_regression(X_trn, Y_trn)"
   ]
  },
  {
   "cell_type": "code",
   "execution_count": 396,
   "metadata": {},
   "outputs": [],
   "source": [
    "def shuffle_data(train_X, train_Y, batch_size):\n",
    "    X = train_X\n",
    "    y = train_Y\n",
    "    \n",
    "    random_indices = np.random.choice(len(X), len(y), replace=False)\n",
    "    \n",
    "    X_shuffled = X[random_indices,:]\n",
    "    y_shuffled = y[random_indices]\n",
    "    mini_batches = [(X_shuffled[i:i+batch_size,:], y_shuffled[i:i+batch_size]) for\n",
    "                   i in range(0, len(y), batch_size)]\n",
    "    return mini_batches\n",
    "    \n",
    "\n",
    "def mini_gradient_descent(train_X, train_Y, learning_rate, num_iter, batch_size):\n",
    "    # Prepare the data\n",
    "    X = np.array(train_X)\n",
    "    y = np.array(train_Y)\n",
    "    \n",
    "    # TODO: Check why do we need to put 1 here\n",
    "    # ones = np.ones(len(X))\n",
    "    # X = np.column_stack((ones, X))\n",
    "    y = np.array(y)\n",
    "    \n",
    "    # Randomize the data and split into samples\n",
    "    df = shuffle_data(X, y, batch_size)\n",
    "    \n",
    "    # Get the dimension\n",
    "    x_dim = X.shape[1]\n",
    "    \n",
    "    # Set the initial tetha and other initial variables\n",
    "    theta = np.zeros((x_dim, 1))\n",
    "    \n",
    "    start_i = 0\n",
    "    \n",
    "    # Create the loop\n",
    "    for i in range(start_i + 1, num_iter + 1):\n",
    "        # For each randomized-mini-batch partition\n",
    "        for j in range(0, len(df)):\n",
    "            X = df[j][0]\n",
    "            y = df[j][1]\n",
    "            \n",
    "            y_hat = np.dot(X, theta)\n",
    "            theta = theta - learning_rate * np.dot(X.T, y_hat - y)\n",
    "        \n",
    "    return theta"
   ]
  },
  {
   "cell_type": "code",
   "execution_count": 398,
   "metadata": {
    "collapsed": true
   },
   "outputs": [
    {
     "name": "stdout",
     "output_type": "stream",
     "text": [
      "(2, 1)\n"
     ]
    },
    {
     "data": {
      "text/plain": [
       "array([[ 13.65173074],\n       [  5.1499387 ]])"
      ]
     },
     "execution_count": 398,
     "metadata": {},
     "output_type": "execute_result"
    }
   ],
   "source": [
    "def create_polinomial_array(element, n):\n",
    "    pol = np.empty([1, n+1])\n",
    "    # Debug\n",
    "    # print(pol)\n",
    "    for i in range(0, n+1):\n",
    "        # Debug\n",
    "        # print(\"Element: \\n\", element)\n",
    "        pol[0][i] = element**i\n",
    "        \n",
    "    return pol[0]\n",
    "        \n",
    "degree = 1\n",
    "# degree + 1 for 1's in the first column\n",
    "X_trn_new = np.ndarray((len(X_trn), degree + 1))\n",
    "\n",
    "i = 0\n",
    "for x in X:\n",
    "    X_trn_new[i] = create_polinomial_array(x, degree)\n",
    "    i += 1\n",
    "        \n",
    "\n",
    "mini_gradient_descent(X_trn_new, Y_trn, 0.001, 12, 10)"
   ]
  },
  {
   "cell_type": "markdown",
   "metadata": {},
   "source": [
    "# Problem 6.3"
   ]
  },
  {
   "cell_type": "code",
   "execution_count": 395,
   "metadata": {},
   "outputs": [],
   "source": [
    "class RidgeRegression(object):\n",
    "    def __init__(self, lmbda=0.1):\n",
    "        self.lmbda = lmbda\n",
    "    \n",
    "    def fit(self, X, y):\n",
    "        C = X.T.dot(X) + self.lmbda * np.eye(X.shape[1])\n",
    "        self.w = np.linalg.inv(C).dot(X.T.dot(y))\n",
    "    \n",
    "    def set_params(self, lmbda=0.1):\n",
    "        self.lmbda = lmbda\n",
    "        return self\n",
    "        \n",
    "    def get_weight(self):\n",
    "        return self.w"
   ]
  },
  {
   "cell_type": "code",
   "execution_count": 409,
   "metadata": {},
   "outputs": [],
   "source": [
    "class Minimisation(object):\n",
    "    def __init__(self, X, y, model):\n",
    "        self.model = model\n",
    "        # Prepare the data\n",
    "        self.X = np.array(X)\n",
    "        self.y = np.array(y)\n",
    "        \n",
    "    def closed_form(self):\n",
    "        self.model.fit(self.X, self.y)\n",
    "        return self.model.get_weight()\n",
    "    \n",
    "    def mini_batch_stochastic(self, batch_size):\n",
    "        y = np.array(y)\n",
    "    \n",
    "        # Randomize the data and split into samples\n",
    "        df = shuffle_data(X, y, batch_size)\n",
    "    \n",
    "        # Get the dimension\n",
    "        x_dim = X.shape[1]\n",
    "    \n",
    "        # Set the initial tetha and other initial variables\n",
    "        theta = np.zeros((x_dim, 1))\n",
    "    \n",
    "        start_i = 0\n",
    "    \n",
    "        # Create the loop\n",
    "        for i in range(start_i + 1, num_iter + 1):\n",
    "            # For each randomized-mini-batch partition\n",
    "            for j in range(0, len(df)):\n",
    "                X = df[j][0]\n",
    "                y = df[j][1]\n",
    "                \n",
    "                self.model.fit(self.X, self.y)\n",
    "                theta = theta - learning_rate * self.model.get_weight \n",
    "        \n",
    "        return theta\n",
    "        \n",
    "    def shuffle_data(self, batch_size):\n",
    "        X = self.X\n",
    "        y = self.y\n",
    "    \n",
    "        random_indices = np.random.choice(len(X), len(y), replace=False)\n",
    "    \n",
    "        X_shuffled = X[random_indices,:]\n",
    "        y_shuffled = y[random_indices]\n",
    "        mini_batches = [(X_shuffled[i:i+batch_size,:], y_shuffled[i:i+batch_size]) for\n",
    "                   i in range(0, len(y), batch_size)]\n",
    "        return mini_batches\n"
   ]
  },
  {
   "cell_type": "code",
   "execution_count": 408,
   "metadata": {},
   "outputs": [
    {
     "name": "stdout",
     "output_type": "stream",
     "text": [
      "<bound method RidgeRegression.get_weight of <__main__.RidgeRegression object at 0x10c792978>>\n"
     ]
    }
   ],
   "source": [
    "df2 = scipy.io.loadmat(\"/Users/bagustrihatmaja/Downloads/HW1_Data/dataset2.mat\")\n",
    "X_trn = df2['X_trn']\n",
    "Y_trn = df2['Y_trn']\n",
    "\n",
    "ridge = RidgeRegression()\n",
    "m = Minimisation(X_trn, Y_trn, ridge)\n",
    "print(m.closed_form())"
   ]
  },
  {
   "cell_type": "code",
   "execution_count": null,
   "metadata": {},
   "outputs": [],
   "source": []
  }
 ],
 "metadata": {
  "kernelspec": {
   "display_name": "Python 2",
   "language": "python",
   "name": "python2"
  },
  "language_info": {
   "codemirror_mode": {
    "name": "ipython",
    "version": 2
   },
   "file_extension": ".py",
   "mimetype": "text/x-python",
   "name": "python",
   "nbconvert_exporter": "python",
   "pygments_lexer": "ipython2",
   "version": "2.7.6"
  }
 },
 "nbformat": 4,
 "nbformat_minor": 0
}
