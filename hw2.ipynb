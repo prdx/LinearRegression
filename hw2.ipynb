{
 "cells": [
  {
   "cell_type": "code",
   "execution_count": 13,
   "metadata": {
    "collapsed": true
   },
   "outputs": [],
   "source": [
    "import numpy as np\n",
    "from numpy.linalg import inv\n",
    "import scipy.io\n",
    "import pandas as pd\n",
    "\n",
    "# For reproducibility\n",
    "np.random.seed(1000)"
   ]
  },
  {
   "cell_type": "code",
   "execution_count": 33,
   "metadata": {},
   "outputs": [],
   "source": [
    "# This function generates data based on the formula we input \n",
    "# For this time we will generate a square function added with a noise\n",
    "f = lambda  x: x**2"
   ]
  },
  {
   "cell_type": "code",
   "execution_count": 231,
   "metadata": {},
   "outputs": [],
   "source": [
    "# Closed function regression\n",
    "def closed_function_regression(train_X, train_Y):\n",
    "  X = np.array(train_X)\n",
    "  y = np.array(train_Y)\n",
    "  \n",
    "  \n",
    "  # TODO: Check again here  \n",
    "  ones = np.ones(len(X))\n",
    "  X = np.column_stack((ones, X))\n",
    "  y = np.array(y)\n",
    "        \n",
    "  Xt = transpose(X)\n",
    "  product = dot(Xt, X)\n",
    "  theInverse = inv(product)\n",
    "  w = dot(dot(theInverse, Xt), y)\n",
    "        \n",
    "  return w\n",
    "        \n",
    "        "
   ]
  },
  {
   "cell_type": "code",
   "execution_count": 232,
   "metadata": {},
   "outputs": [
    {
     "data": {
      "text/plain": [
       "array([[ 17.81209242],\n       [  4.8607913 ]])"
      ]
     },
     "execution_count": 232,
     "metadata": {},
     "output_type": "execute_result"
    }
   ],
   "source": [
    "df = scipy.io.loadmat(\"/Users/bagustrihatmaja/Downloads/HW1_Data/dataset1.mat\")\n",
    "\n",
    "X_trn = df['X_trn']\n",
    "Y_trn = df['Y_trn']\n",
    "\n",
    "\n",
    "closed_function_regression(X_trn, Y_trn)"
   ]
  },
  {
   "cell_type": "code",
   "execution_count": 233,
   "metadata": {},
   "outputs": [],
   "source": [
    "def shuffle_data(train_X, train_Y, batch_size):\n",
    "    X = train_X\n",
    "    y = train_Y\n",
    "    \n",
    "    random_indices = np.random.choice(len(X), len(y), replace=False)\n",
    "    \n",
    "    X_shuffled = X[random_indices,:]\n",
    "    y_shuffled = y[random_indices]\n",
    "    mini_batches = [(X_shuffled[i:i+batch_size,:], y_shuffled[i:i+batch_size]) for\n",
    "                   i in range(0, len(y), batch_size)]\n",
    "    return mini_batches\n",
    "    \n",
    "\n",
    "def mini_gradient_descent(train_X, train_Y, learning_rate, num_iter, batch_size):\n",
    "    # Prepare the data\n",
    "    X = np.array(train_X)\n",
    "    y = np.array(train_Y)\n",
    "    \n",
    "    # Get the dimension\n",
    "    x_dim = X.ndim\n",
    "    \n",
    "    # TODO: Check why do we need to put 1 here\n",
    "    ones = np.ones(len(X))\n",
    "    X = np.column_stack((ones, X))\n",
    "    y = np.array(y)\n",
    "    \n",
    "    # Randomize the data and get a sample\n",
    "    df = shuffle_data(X, y, batch_size)\n",
    "    \n",
    "    # Set the initial tetha and other initial variables\n",
    "    theta = np.zeros((x_dim, 1))\n",
    "    start_i = 0\n",
    "    m = y.size\n",
    "    \n",
    "    # Create the loop\n",
    "    for i in range(start_i + 1, num_iter + 1):\n",
    "        y_hat = np.dot(X, theta)\n",
    "        theta = theta - learning_rate * (1.0 / m) * np.dot(X.T, y_hat - y)\n",
    "        \n",
    "    return theta\n",
    "    \n",
    "    \n",
    "    "
   ]
  },
  {
   "cell_type": "code",
   "execution_count": 234,
   "metadata": {},
   "outputs": [
    {
     "data": {
      "text/plain": [
       "array([[ 11.32638245],\n       [  5.08135765]])"
      ]
     },
     "execution_count": 234,
     "metadata": {},
     "output_type": "execute_result"
    }
   ],
   "source": [
    "mini_gradient_descent(X_trn, Y_trn, 0.01, 100, 10)\n"
   ]
  },
  {
   "cell_type": "code",
   "execution_count": null,
   "metadata": {},
   "outputs": [],
   "source": []
  }
 ],
 "metadata": {
  "kernelspec": {
   "display_name": "Python 2",
   "language": "python",
   "name": "python2"
  },
  "language_info": {
   "codemirror_mode": {
    "name": "ipython",
    "version": 2
   },
   "file_extension": ".py",
   "mimetype": "text/x-python",
   "name": "python",
   "nbconvert_exporter": "python",
   "pygments_lexer": "ipython2",
   "version": "2.7.6"
  }
 },
 "nbformat": 4,
 "nbformat_minor": 0
}
